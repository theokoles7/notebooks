{
 "cells": [
  {
   "cell_type": "markdown",
   "metadata": {},
   "source": [
    "# §2.1: The Equity Curve\n",
    "[< 2. Performance Metrics](./toc.md)\n",
    "\n",
    "The ***equity curve*** is simply the evolution of the value of your portfolio over time."
   ]
  },
  {
   "cell_type": "markdown",
   "metadata": {},
   "source": [
    "## §2.1.1: Defining a Portfolio\n",
    "\n",
    "For a single asset, we typically refer to a time series of proces as $y_t$ for $t \\in 0, \\dots, T$, where:\n",
    "\n",
    "* $t$ represents a moment in time (x-axis)\n",
    "* $y_t$ is the price of the asset at any time, $t$ (y-axis)\n",
    "* $T$ is the time at which the series of prices is being evaluated\n",
    "\n",
    "When the asset is part of a collection of other assets, we refer to it as $y_{t, i}$, for asset $i \\in I$, where:\n",
    "\n",
    "* $I$ is the collection of all assets\n",
    "* $i$ is an individual assets within the collection\n",
    "\n",
    "The portfolio value, $P_t$, is then simply the sum of the collective holdings of the underlying assets at any given time, defined by:\n",
    "\n",
    "$$P_T = \\Sigma_{i \\in I} w_{t, i} y_{t, i}$$\n",
    "\n",
    "Where $w{t, i}$ is the number of shares held of a certain asset $i$ at time $t$."
   ]
  },
  {
   "cell_type": "markdown",
   "metadata": {},
   "source": [
    "## §2.1.2: Defining the Equity Curve\n",
    "\n",
    "The ***equity curve*** is the sum of cash holdings, minus any transaction costs, defined by:\n",
    "\n",
    "$$E_t = C_t + P_t$$\n",
    "\n",
    "Where:\n",
    "* $C_t$ is the account's cash holdings\n",
    "* $P_t$ is the account's [portfolio](#§211-defining-a-portfolio) holdings\n",
    "* $E_t$ is the equity of the account, assumed to be measured *after* any trading and fee adjustments occur, against which the cash & stock holdings can potentially change"
   ]
  }
 ],
 "metadata": {
  "language_info": {
   "name": "python"
  }
 },
 "nbformat": 4,
 "nbformat_minor": 2
}
