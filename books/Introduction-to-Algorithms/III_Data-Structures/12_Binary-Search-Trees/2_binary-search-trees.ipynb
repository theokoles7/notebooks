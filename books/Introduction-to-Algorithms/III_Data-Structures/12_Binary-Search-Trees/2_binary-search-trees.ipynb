{
 "cells": [
  {
   "cell_type": "markdown",
   "metadata": {},
   "source": [
    "# Binary Search Trees\n",
    "[< Back](./toc.md)"
   ]
  },
  {
   "cell_type": "markdown",
   "metadata": {},
   "source": [
    "## Binary Search Tree Property\n",
    "\n",
    "Given tree node $x$, if node $y$ is in the left (or right) subtree of $x$, we have the following *Binary Tree Property*:\n",
    "\n",
    "$$\n",
    "y.key \\le x.key\n",
    "$$\n",
    "\n",
    "### Theorem 1:\n",
    "\n",
    "`INORDER_TREE_WALK(x)` across an $n$-node subtree rooted at $x$ takes $\\Theta(n)$"
   ]
  }
 ],
 "metadata": {
  "language_info": {
   "name": "python"
  }
 },
 "nbformat": 4,
 "nbformat_minor": 2
}
