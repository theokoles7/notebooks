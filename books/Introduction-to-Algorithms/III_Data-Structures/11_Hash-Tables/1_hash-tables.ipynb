{
 "cells": [
  {
   "cell_type": "markdown",
   "metadata": {},
   "source": [
    "# Hash Tables\n",
    "[< Back](./toc.md)\n",
    "\n",
    "## Table of Contents:\n",
    "* [Key Points](#key-points)\n",
    "* [Hash Table with Collision Resolution by Chaining]()\n",
    "* [Hash Functions](#hash-functions)\n",
    "\t* [Division Method](#division-method)\n",
    "\t* [Multiplication Method](#multiplication-method)\n",
    "* [Properties of Random Hashing](#properties-of-random-hashing)\n",
    "* [Universal Hashing](#universal-hashing)\n",
    "* [Open Addressing](#open-addressing)\n",
    "* [Uniform Hashing Analysis on Open Addressing](#uniform-hashing-analysis-on-open-addressing)\n",
    "* [Open-Address Hashing Analysis](#open-address-hashing-analysis)\n",
    "* [Cuckoo Hashing](#cuckoo-hashing)\n",
    "* [Cuckoo Graph](#cuckoo-graphs)\n",
    "\n",
    "## Key Points\n",
    "* Suitable for large key space with small numbers of actual keys stores\n",
    "* Average search time over the hash table is $O(1)$\n",
    "* Collision-handling strategy required\n",
    "* Keys must be stored to ensure the right items are retrieved\n",
    "* Hash \tfunction maps a key to one table index"
   ]
  },
  {
   "cell_type": "markdown",
   "metadata": {},
   "source": [
    "## Hash Table with Collision Resolution by Chaining"
   ]
  },
  {
   "cell_type": "markdown",
   "metadata": {},
   "source": [
    "## Hash Functions"
   ]
  },
  {
   "cell_type": "markdown",
   "metadata": {
    "slideshow": {
     "slide_type": "subslide"
    }
   },
   "source": [
    "* ### Division Method"
   ]
  },
  {
   "cell_type": "markdown",
   "metadata": {
    "slideshow": {
     "slide_type": "subslide"
    }
   },
   "source": [
    "* ### Multiplication Method"
   ]
  },
  {
   "cell_type": "markdown",
   "metadata": {},
   "source": [
    "## Properties of Random Hashing"
   ]
  },
  {
   "cell_type": "markdown",
   "metadata": {},
   "source": [
    "## Universal Hashing\n",
    "\n",
    "* For the hash function of $h_{ab}(k) = ((a * k + b) % p) % m$, where *p* is a large prime number, with $p > m$, $a \\in \\{1, 2, ..., p - 1\\}$ and $b \\in \\{0, 1, 2, p-1\\}$, the collection of such hash functions is universal.\n",
    "* In this case, m can be any number and does not have to be a prime. For example, for p = 17 and m = 8, we have h_34(15) = (((3 * 15 + 4) % 17) % 8) = 7. "
   ]
  },
  {
   "cell_type": "markdown",
   "metadata": {},
   "source": [
    "## Open Addressing\n",
    "\n",
    "* Elements store inside the table\n",
    "* Calculating probe squence of given key, instead of using pointers: $<h(k, 0), h(k, 1), h(k, 2), ..., h(k, m-1)>$\n",
    "* If probe sequence is a permutation of $<0, 1, 2, ..., m - 1>$, every table entry is a candidate location for the element.\n",
    "* The probe sequence is fixed for a given key.\n",
    "* Key has to be stored in the table entry."
   ]
  },
  {
   "cell_type": "markdown",
   "metadata": {},
   "source": [
    "## Uniform Hashing Analysis on Open Addressing\n",
    "\n",
    "* Key probe sequance equal likely in one of *m!* permutations of $<0, 1, 2, ..., m - 1>$\n",
    "* Probe sequences defined for open addressing\n",
    "\t* ***Linear Probing***: $m$ different sequences\n",
    "\t\t* Dictated by $h(k, i) = (h'(k) + i)~\\%~m$\n",
    "\t\t* Subject to primary clustering\n",
    "\t\t\n",
    "\t* ***Quadratic Probing***: $m$ different sequences\n",
    "\t\t* Dictated by $h(k, i) = (h'(k) + c_1i + c_2i^2)~\\%~m$\n",
    "\t\t* Subject to secondary clustering, where both keys follow the *same* probe sequence\n",
    "\n",
    "\t* ***Double Hashing***: $m^2$ different sequences\n",
    "\t\t* Dictated by $h(k, i) = (h_1(k) + i \\times h_2(k))~\\%~m$\n",
    "\t\t* Many good dchoices:\n",
    "\t\t\t* $h_2(k)$ relatively prime to $m$\n",
    "\t\t\t* $m$ itself is prime\n",
    "\t\t\t* $m$ a power of 2 and $h_2(k)$ is always an odd number\n",
    "\t\t\t* $m$ is prime and $m'$ slightly less than $m$ (e.g., $m - 1$ or $m - 2$), with $h_1(k) = k~\\%~m$ and $h_2(k) = 1 + (k~\\%~m')$"
   ]
  },
  {
   "cell_type": "markdown",
   "metadata": {},
   "source": [
    "## Open-Address Hashing Analysis\n",
    "\n",
    "**NOTE**: *Load factor* is he number of elements in a hash table divided by the number of slots\n",
    "\n",
    "* ***Theorem 1***:\n",
    "\n",
    "\tFor an open-address hash table with load factor $\\alpha = n/m < 1$, the expected number of probes in unsuccessful search under uniform hashing is at most $1/(1 - \\alpha)$\n",
    "\n",
    "\t**NOTE**: *Unsuccessful search* ends at finding an empty entry\n",
    "\n",
    "\t+ If $\\alpha$ is a constant, an unsuccessful search runs in *O(1)* time\n",
    "\t+ Inserting an element into an open-address hash table with load factor $\\alpha$ takes at most $1/(1 - \\alpha)$ probes on an average under uniform hashing, because it has $(1 - \\alpha)$ for 1 probe, plus prob $\\alpha\\times(1 - \\alpha)$ to take 2 probes, plus prob $\\alpha^2 \\times (1 - \\alpha)$ to take 3 probes, etc., yielding $1 + \\alpha + \\alpha^2 + \\alpha^3 + ... = 1/(1 - \\alpha)$.\n",
    "\n",
    "* ***Theorem 2***:\n",
    "\n",
    "\tFor an open-address hash table with load factor $\\alpha < 1$, the expected number of probes in a successful search under uniform hashing is at most $\\frac{1}{\\alpha} \\times ln\\frac{1}{1 - \\alpha}$\n",
    "\n",
    "\t+ Successful search for a key equals the sequence of inserting the key\n",
    "\t+ $2^{nd}$ key insertion takes $\\le 1 / (1 - (1 / m))$ probes, on an average, when $\\alpha$ is $1 / m$\n",
    "\t+ $3^{rd}$ key takes $\\le 1 / (1 - (2 / m))$ probes on an average, when $\\alpha$ is $2 / m$\n",
    "\t+ ...and so on."
   ]
  },
  {
   "cell_type": "markdown",
   "metadata": {},
   "source": [
    "## Cuckoo Hashing\n",
    "\n",
    "* Properties:\n",
    "    * Move keys around upon insertion for worst probe case of $O(1)$\n",
    "        * Quick search but possibly lengthy insertion\n",
    "        * Multiple hash functions required for separate hash tables\n",
    "    * Delete keys in the worst case of $O(1)$\n",
    "\n",
    "* Example:\n",
    "    * Two hash tbales, each with $m$ elements\n",
    "    * Two hash functions, $h_1$ and $h_2$, one for each table\n",
    "    * Each key $x$ at either $h_1(x)$ or $h_2(x)$\n",
    "    * New key 10 with $h_1(10) = 6$ and $h_2(10) = 4$\n",
    "    * Move key 93 around, if $h_2(93) = 5$ for insertion\n",
    "\n",
    "* Algorithm:\n",
    "    1. Insert \"new key\" into $T_1$ located at $h_1$ (new key), when available\n",
    "    2. Otherwise, \"new key\" displaces \"existing key\" in $T_1$. Place \"existing key\" in $T_2$ located at $h_2$ (existing key). Repeat the displacement process, if needed."
   ]
  },
  {
   "cell_type": "markdown",
   "metadata": {},
   "source": [
    "## Cuckoo Graphs\n",
    "\n",
    "* Derived from cuckoo hash tables\n",
    "    * Each table entry is a node\n",
    "    * Each key is an edge, which links the entries that can hold the key\n",
    "    * An insertion adds a new edge to the graph\n",
    "    * Insertion done by tracing a path over the graph"
   ]
  }
 ],
 "metadata": {
  "language_info": {
   "name": "python"
  }
 },
 "nbformat": 4,
 "nbformat_minor": 2
}
