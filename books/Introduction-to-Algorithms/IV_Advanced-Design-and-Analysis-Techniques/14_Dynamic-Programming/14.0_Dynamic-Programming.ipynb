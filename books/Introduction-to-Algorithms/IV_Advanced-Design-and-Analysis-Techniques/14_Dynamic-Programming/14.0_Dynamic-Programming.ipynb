{
 "cells": [
  {
   "cell_type": "markdown",
   "metadata": {},
   "source": [
    "## Typical Steps of Dynamic Programming\n",
    "1. **Applicability**: Characterize a structure of an optimal solution\n",
    "2. **Recursion Formulation**: Recursively define value of optimal solutions to subproblems\n",
    "3. **Keep Subsolutions**: Compute & keep value of optimal solution to every subproblem"
   ]
  }
 ],
 "metadata": {
  "language_info": {
   "name": "python"
  }
 },
 "nbformat": 4,
 "nbformat_minor": 2
}
