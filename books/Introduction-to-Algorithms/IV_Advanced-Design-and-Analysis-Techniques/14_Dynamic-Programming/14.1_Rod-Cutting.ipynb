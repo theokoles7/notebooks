{
 "cells": [
  {
   "cell_type": "markdown",
   "metadata": {},
   "source": [
    "# § 14.1: Rod Cutting\n",
    "\n",
    "The *rod-cutting* problem is as follows:\n",
    "\n",
    "> Given a rod of length $n$ inches and a table of prices $p_i$ for $i = 1, 2, \\dots, n$, determine the maximum revenue $r_n$ obtainable by cutting up the rod and selling the pieces. If the price $p_n$ for a rod of length $n$ is large enough, an optimal solution might require no cutting at all."
   ]
  },
  {
   "cell_type": "markdown",
   "metadata": {},
   "source": [
    "## Recursive Top-Down Implementation\n",
    "\n",
    "The following `cut_rod` procedure implements the computation implicit in this equation: $r_n =  max\\{p_i + r_{n-i}: 1 \\le i \\le n\\}$, in a top-down, recursive manner."
   ]
  },
  {
   "cell_type": "code",
   "execution_count": 49,
   "metadata": {},
   "outputs": [],
   "source": [
    "from sys    import maxsize\n",
    "\n",
    "def cut_rod(\n",
    "    p:  list,\n",
    "    n:  int\n",
    ") -> int:\n",
    "    \"\"\"# Top-Down Recursive Cut-Rod.\n",
    "\n",
    "    ## Args:\n",
    "        * p (list): List of prices, where the index + 1 corresponds to the length of the rod (i.e., p[4] is the price of a rod of length 5).\n",
    "        * n (int):  Lenghth of initial rod.\n",
    "\n",
    "    ## Returns:\n",
    "        * int:  Maximum revenue possible for rod of length n.\n",
    "    \"\"\"\n",
    "    # If the rod is at length 0, return 0.\n",
    "    if n == 0: return 0\n",
    "\n",
    "    # Otherwise, initialize q, which will maintain the max between the current \n",
    "    # rod length price and the price of rods of lesser lengths.\n",
    "    q:  int =   -maxsize\n",
    "\n",
    "    # For any possible length of the given rod...\n",
    "    for l in range(1, n + 1):\n",
    "\n",
    "        # Redefine q as the value stated above.\n",
    "        q = max(q, p[l - 1] + cut_rod(p, n - l))\n",
    "\n",
    "    # Return the maximum found.\n",
    "    return q"
   ]
  },
  {
   "cell_type": "markdown",
   "metadata": {},
   "source": [
    "To see an example, we'll run the procedure on a rod of length 4, $n = 4$, and $p$ is:\n",
    "\n",
    "| $length i$    | 1 | 2 | 3 | 4 | 5  | 6  | 7  | 8  | 9  | 10 |\n",
    "|---------------|---|---|---|---|----|----|----|----|----|----|\n",
    "| $price p_i$   | 1 | 5 | 8 | 9 | 10 | 17 | 17 | 20 | 24 | 30 |"
   ]
  },
  {
   "cell_type": "code",
   "execution_count": 50,
   "metadata": {},
   "outputs": [
    {
     "name": "stdout",
     "output_type": "stream",
     "text": [
      "Maximum revenue for rod of length 4: 10\n",
      "Total time: 0:00:00.000348\n"
     ]
    }
   ],
   "source": [
    "from datetime   import datetime\n",
    "\n",
    "# Record starting time\n",
    "start:  datetime =  datetime.now()\n",
    "\n",
    "# Run procedure\n",
    "print(f\"Maximum revenue for rod of length 4: {cut_rod(p = [1, 5, 8, 9, 10, 17, 17, 20, 24, 30], n = 4)}\")\n",
    "\n",
    "# Print total time\n",
    "print(f\"Total time: {datetime.now() - start}\")"
   ]
  },
  {
   "cell_type": "markdown",
   "metadata": {},
   "source": [
    "## Using Dynamic Programming for Optimal Rod Cutting\n",
    "\n",
    "Now, let's see how to use duynamic programming to convert `cut_rod` into an efficient algorithm. The first approach is top-down with memoization. In this case, we're writing the procedure in the same recursive manner, but modified to save the result of each subproblem."
   ]
  },
  {
   "cell_type": "code",
   "execution_count": 51,
   "metadata": {},
   "outputs": [],
   "source": [
    "from sys    import maxsize\n",
    "\n",
    "def memoized_cut_rod(\n",
    "    p:  list,\n",
    "    n:  int\n",
    ") -> int:\n",
    "    \"\"\"# Top-Down Recursive Cut Rod with Memoization.\n",
    "\n",
    "    ## Args:\n",
    "        * p (list): List of prices, where the index + 1 corresponds to the length of the rod (i.e., p[4] is the price of a rod of length 5).\n",
    "        * n (int):  Lenghth of initial rod.\n",
    "\n",
    "    ## Returns:\n",
    "        * int:  Maximum revenue possible for rod of length n.\n",
    "    \"\"\"\n",
    "    # Initiatlize memoization table.\n",
    "    r:  list =  [-maxsize]*n\n",
    "\n",
    "    # Initiate & return optimal revenue from\n",
    "    return memoized_cut_rod_aux(p, n, r)\n",
    "\n",
    "def memoized_cut_rod_aux(\n",
    "        p:  list,\n",
    "        n:  int,\n",
    "        r:  list\n",
    ") -> int:\n",
    "    \"\"\"# Top-Down Recursive Cut Rod with Memoization Helper.\n",
    "\n",
    "    ## Args:\n",
    "        * p (list): List of prices, where the index + 1 corresponds to the length of the rod (i.e., p[4] is the price of a rod of length 5).\n",
    "        * n (int):  Lenghth of initial rod.\n",
    "        * r (list): List of revenue values, where the index + 1 corresponds to the length of the rod (i.e., p[4] is the revenue of a rod of length 5).\n",
    "\n",
    "    ## Returns:\n",
    "        * int:  Maximum revenue possible for rod of length n.\n",
    "    \"\"\"\n",
    "    # If r[n] has already been computed, return the revenue\n",
    "    if r[n - 1] >= 0:   return r[n - 1]\n",
    "\n",
    "    # Otherwise, if n is zero, return zero\n",
    "    if n == 0:      return 0\n",
    "\n",
    "    # Otherwise, initialize q, which will maintain the max between the current \n",
    "    # rod length price and the price of rods of lesser lengths.\n",
    "    q:  int =   -maxsize\n",
    "\n",
    "    # For every possible length of the rod given\n",
    "    for l in range (1, n + 1):\n",
    "\n",
    "        # Redefine q as the value stated above.\n",
    "        q = max(q, p[l - 1] + memoized_cut_rod_aux(p, n - l, r))\n",
    "\n",
    "    # Record the outcome for the given length\n",
    "    r[n - 1] = q\n",
    "\n",
    "    # Return q\n",
    "    return q"
   ]
  },
  {
   "cell_type": "code",
   "execution_count": 52,
   "metadata": {},
   "outputs": [
    {
     "name": "stdout",
     "output_type": "stream",
     "text": [
      "Maximum revenue for rod of length 4: 10\n",
      "Total time: 0:00:00.000191\n"
     ]
    }
   ],
   "source": [
    "from datetime   import datetime\n",
    "\n",
    "# Record starting time\n",
    "start:  datetime =  datetime.now()\n",
    "\n",
    "# Run procedure\n",
    "print(f\"Maximum revenue for rod of length 4: {memoized_cut_rod(p = [1, 5, 8, 9, 10, 17, 17, 20, 24, 30], n = 4)}\")\n",
    "\n",
    "# Print total time\n",
    "print(f\"Total time: {datetime.now() - start}\")"
   ]
  },
  {
   "cell_type": "markdown",
   "metadata": {},
   "source": [
    "Furthermore, we can create an even simpler version of the above procedure. Using the bottom-up dynamic programming approach, `bottom_up_cut_rod` takes advantage of the natural ordering of the subproblems: a subproblem of size $i$ is \"smaller\" tan a subproblem of size $j$ if $i \\lt j$. Thus the procedure solves the subproblems of sizes $j = 0, 1, \\dots, n$ in that order, without the need for recursion.\n",
    "\n",
    "The time complexity of `bottom_up_cut_rod` is $\\Theta(n^2)$"
   ]
  },
  {
   "cell_type": "code",
   "execution_count": 53,
   "metadata": {},
   "outputs": [],
   "source": [
    "from sys    import maxsize\n",
    "\n",
    "def bottom_up_cut_rod(\n",
    "        p:  list,\n",
    "        n:  int\n",
    ") -> int:\n",
    "    \"\"\"# Bottom-Up-Cut-Rod.\n",
    "\n",
    "    ## Args:\n",
    "        * p (list): List of prices, where the index + 1 corresponds to the length of the rod (i.e., p[4] is the price of a rod of length 5).\n",
    "        * n (int):  Lenghth of initial rod.\n",
    "\n",
    "    ## Returns:\n",
    "        * int:  Maximum revenue possible for rod of length n.\n",
    "    \"\"\"\n",
    "    # Initialize revenue array\n",
    "    r:  list =  [0]*(n + 1)\n",
    "\n",
    "    # For each possible length of the given rod\n",
    "    for j in range (1, n + 1):\n",
    "\n",
    "        # Initialize minimum value for comparison\n",
    "        q:  int =   -maxsize\n",
    "\n",
    "        # For each possible cut\n",
    "        for i in range (1, j + 1):\n",
    "\n",
    "            # Find the maximum revenue for the length\n",
    "            q = max(q, p[i - 1] + r[j - i])\n",
    "\n",
    "        # Update the revenue list\n",
    "        r[j] = q\n",
    "\n",
    "    # Provide maximum revenue found for given length\n",
    "    return r[n]"
   ]
  },
  {
   "cell_type": "code",
   "execution_count": 54,
   "metadata": {},
   "outputs": [
    {
     "name": "stdout",
     "output_type": "stream",
     "text": [
      "Maximum revenue for rod of length 4: 10\n",
      "Total time: 0:00:00.000245\n"
     ]
    }
   ],
   "source": [
    "from datetime   import datetime\n",
    "\n",
    "# Record starting time\n",
    "start:  datetime =  datetime.now()\n",
    "\n",
    "# Run procedure\n",
    "print(f\"Maximum revenue for rod of length 4: {bottom_up_cut_rod(p = [1, 5, 8, 9, 10, 17, 17, 20, 24, 30], n = 4)}\")\n",
    "\n",
    "# Print total time\n",
    "print(f\"Total time: {datetime.now() - start}\")"
   ]
  },
  {
   "cell_type": "markdown",
   "metadata": {},
   "source": [
    "## Reconstructing a Solution\n",
    "\n",
    "The procedires `memoized_cut_rod` and `bottom_up_cut_rod` return the *value* of an optimal solution to the rod-cutting problem, but they do not return the solution *itself*: a list of piece sizes.\n",
    "\n",
    "We'll extend our approach thus far to record not only optimal value computed for each subproblem, but also the *choice* that led to that optimal value."
   ]
  },
  {
   "cell_type": "code",
   "execution_count": 55,
   "metadata": {},
   "outputs": [],
   "source": [
    "from sys    import maxsize\n",
    "\n",
    "def extended_bottom_up_cut_rod(\n",
    "        p:  list,\n",
    "        n:  int\n",
    ") -> int:\n",
    "    \"\"\"# Extended-Bottom-Up-Cut-Rod.\n",
    "\n",
    "    ## Args:\n",
    "        * p (list): List of prices, where the index + 1 corresponds to the length of the rod (i.e., p[4] is the price of a rod of length 5).\n",
    "        * n (int):  Lenghth of initial rod.\n",
    "\n",
    "    ## Returns:\n",
    "        * int:  Maximum revenue possible for rod of length n.\n",
    "    \"\"\"\n",
    "    # Initialize revenue & cut-length lists\n",
    "    r:  list =  [0]*(n + 1)\n",
    "    s:  list =  [0]*(n + 1)\n",
    "\n",
    "    # For each rod length\n",
    "    for j in range (1, n + 1):\n",
    "\n",
    "        # Initialize minimum value for comparison\n",
    "        q:  int =   -maxsize\n",
    "\n",
    "        # For each possible cut\n",
    "        for i in range (1, j + 1):\n",
    "\n",
    "            # If the price of the current cut + the optimal revenue \n",
    "            # of the last cut is greater than the current...\n",
    "            if q < p[i] + r[j - i]:\n",
    "\n",
    "                # Record that revenue as the new optimal choice, and...\n",
    "                q = p[i] + r[j - i]\n",
    "\n",
    "                # Record the length at which to cut for that optimal choice.\n",
    "                s[j] = i\n",
    "\n",
    "        # Record the final optimal choice for the specific length.\n",
    "        r[j] = q\n",
    "\n",
    "    # Provide the optimal revenue and optimal length \n",
    "    # at which to cut for each possible length of the rod.\n",
    "    return r, s"
   ]
  },
  {
   "cell_type": "code",
   "execution_count": 56,
   "metadata": {},
   "outputs": [
    {
     "name": "stdout",
     "output_type": "stream",
     "text": [
      "Maximum revenue for rod of length 8: ([0, 1, 5, 8, 10, 13, 17, 18, 22], [0, 1, 2, 3, 2, 2, 6, 1, 2])\n",
      "Total time: 0:00:00.000233\n"
     ]
    }
   ],
   "source": [
    "from datetime   import datetime\n",
    "\n",
    "# Record starting time\n",
    "start:  datetime =  datetime.now()\n",
    "\n",
    "# Run procedure\n",
    "print(f\"Maximum revenue for rod of length 8: {extended_bottom_up_cut_rod(p = [0, 1, 5, 8, 10, 13, 17, 18, 22], n = 8)}\")\n",
    "\n",
    "# Print total time\n",
    "print(f\"Total time: {datetime.now() - start}\")"
   ]
  },
  {
   "cell_type": "markdown",
   "metadata": {},
   "source": [
    "## Exercises\n",
    "\n",
    "* 14.1-1: Show that equation 14.4 follows from equation 14.3 and the initial condition $T(0) = 1$.\n",
    "\n",
    "* 14.1-2: Show, by means of a counterexample, that the following \"greedy\" strategy does not always determine an optimal way to cut rods.\n",
    "\n",
    "    ```\n",
    "    Define the density of a rod of length i to be p_i / i, that is, its value per inch.\n",
    "    The greedy strategy for a rod of length n cuts off a first piece of length i, where 1 <= i <= n, having maximum density.\n",
    "    It then continues by applying the greedy strategy to the remaining piece of length n - 1.\n",
    "    ```\n",
    "\n",
    "* 14.1-3: Consider a modification of the rod-cutting problem in which, in addition to a proce p, for each rod, each cut incurs a fixed cost of c. The revenue associated with a solution is now the sum of the proces of the pieces minus the costs of making the cuts. Give a dunamic-programming algorithm to solve this modified problem.\n",
    "\n",
    "* 14.1-4: Modify `CUT-ROD` and `MEMOIZED-CUT-ROD-AUX` so that their for loops go up to only $\\lfloor\\frac{n}{2}\\rfloor$, rather than up to $n$. What other changes to the procedures do you need to make? How are their running times affected?\n",
    "\n",
    "* 14.1-5: Modify `MEMOIZED-CUT-ROD` to return not only the value but the actual solution.\n",
    "\n",
    "* 14.1-6: The Fibonacci numbers are defined by recurrence 3.31 on page 69. Give an $O(n)$ time dynamic programming algorithm to compute the $n^{th}$ Fibonacci number. Draw the subproblem graph. How many vertices and edges does the graph contain?"
   ]
  }
 ],
 "metadata": {
  "kernelspec": {
   "display_name": "base",
   "language": "python",
   "name": "python3"
  },
  "language_info": {
   "codemirror_mode": {
    "name": "ipython",
    "version": 3
   },
   "file_extension": ".py",
   "mimetype": "text/x-python",
   "name": "python",
   "nbconvert_exporter": "python",
   "pygments_lexer": "ipython3",
   "version": "3.12.3"
  }
 },
 "nbformat": 4,
 "nbformat_minor": 2
}
