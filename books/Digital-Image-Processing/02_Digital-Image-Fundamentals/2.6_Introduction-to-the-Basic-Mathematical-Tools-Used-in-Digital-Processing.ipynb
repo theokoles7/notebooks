{
 "cells": [
  {
   "cell_type": "markdown",
   "metadata": {},
   "source": [
    "# §2.6: Introduction to the Basic Mathematical Tools Used in Digital Processing\n",
    "[< Chapter 2: Digital Image Fundamentals](./README.md)\n",
    "\n",
    "## Subsections:\n",
    "* [§2.6.1: Element-wise Versus Matrix Operations](#261-element-wise-versus-matrix-operations)\n",
    "* [§2.6.2: Linear Versus Non-linear Operations](#262-linear-versus-non-linear-operations)\n",
    "* [§2.6.3: Arithmetic Operations](#263-arithmetic-operations)\n",
    "* [§2.6.4: Set and Logical Operations](#264-set-and-logical-operations)\n",
    "    * [§2.6.4.1: Basic Set Operations](#2641-basic-set-operations)\n",
    "    * [§2.6.4.2: Logical Operations](#2642-logical-operations)\n",
    "* [§2.6.5: Spatial Operations](#265-spatial-operations)\n",
    "    * [§2.6.5.1: Single-Pixel Operations](#2651-single-pixel-operations)\n",
    "    * [§2.6.5.2: Neighborhood Operations](#2652-neighborhood-operations)\n",
    "    * [§2.6.5.3: Geometric Transformations](#2653-geometric-transformations)\n",
    "    * [§2.6.5.4: Image Registration](#2654-image-registration)\n",
    "* [§2.6.6: Vector and Matrix Operations](#266-vector-and-matrix-operations)\n",
    "* [§2.6.7: Image Transforms](#267-image-transforms)\n",
    "* [§2.6.8: Image Intensities as Random Variables](#268-image-intensities-as-random-variables)"
   ]
  },
  {
   "cell_type": "markdown",
   "metadata": {},
   "source": [
    "## §2.6.1: Element-wise Versus Matrix Operations"
   ]
  },
  {
   "cell_type": "markdown",
   "metadata": {},
   "source": [
    "## §2.6.2: Linear Versus Non-linear Operations"
   ]
  },
  {
   "cell_type": "markdown",
   "metadata": {},
   "source": [
    "## §2.6.3: Arithmetic Operations"
   ]
  },
  {
   "cell_type": "markdown",
   "metadata": {},
   "source": [
    "## §2.6.4: Set and Logical Operations"
   ]
  },
  {
   "cell_type": "markdown",
   "metadata": {},
   "source": [
    "### §2.6.4.1: Basic Set Operations"
   ]
  },
  {
   "cell_type": "markdown",
   "metadata": {},
   "source": [
    "### §2.6.4.2: Logical Operations"
   ]
  },
  {
   "cell_type": "markdown",
   "metadata": {},
   "source": [
    "## §2.6.5: Spatial Operations"
   ]
  },
  {
   "cell_type": "markdown",
   "metadata": {},
   "source": [
    "### §2.6.5.1: Single-Pixel Operations"
   ]
  },
  {
   "cell_type": "markdown",
   "metadata": {},
   "source": [
    "### §2.6.5.2: Neighborhood Operations"
   ]
  },
  {
   "cell_type": "markdown",
   "metadata": {},
   "source": [
    "### §2.6.5.3: Geometric Transformations"
   ]
  },
  {
   "cell_type": "markdown",
   "metadata": {},
   "source": [
    "### §2.6.5.4: Image Registration"
   ]
  },
  {
   "cell_type": "markdown",
   "metadata": {},
   "source": [
    "## §2.6.6: Vector and Matrix Operations"
   ]
  },
  {
   "cell_type": "markdown",
   "metadata": {},
   "source": [
    "## §2.6.7: Image Transforms"
   ]
  },
  {
   "cell_type": "markdown",
   "metadata": {},
   "source": [
    "## §2.6.8: Image Intensities as Random Variables"
   ]
  }
 ],
 "metadata": {
  "language_info": {
   "name": "python"
  }
 },
 "nbformat": 4,
 "nbformat_minor": 2
}
