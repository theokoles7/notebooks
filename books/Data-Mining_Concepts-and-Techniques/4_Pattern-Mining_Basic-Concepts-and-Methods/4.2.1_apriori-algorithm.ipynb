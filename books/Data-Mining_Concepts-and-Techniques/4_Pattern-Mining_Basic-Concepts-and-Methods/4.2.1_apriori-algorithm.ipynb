{
 "cells": [
  {
   "cell_type": "markdown",
   "metadata": {},
   "source": [
    "# &sect; 4.2.1: Apriori Algorithm: Finding Frequent Itemsets by Confined Candidate Generation\n",
    "\n",
    "**Apriori** is a seminal algorithm proposed by R. Argawal and R. Srikant in 1994 for <mark style=\"background-color: rgba(255, 0, 255, .25); color: white;\">mining frquent itemsets for Boolean association rules</mark>. The name of the algorithm is based on the fact that the algorithm <mark style=\"background-color: rgba(255, 0, 255, .25); color: white;\">uses prior knowledge of frequent itemset properties</mark>. Apriori emplys an iterative approach known as <mark style=\"background-color: rgba(255, 0, 255, .25); color: white;\">*level-wise* search, where $k$-itemsets are used to explore $(k + 1)$-itemsets</mark>.\n",
    "\n",
    "* First, the set of frequent 1-itemsets is found by scanning the database to accumulate the count for each item, and collectng those items that satisfy the *minimum support*. The resulting set is denoted by $L_1$.\n",
    "* Next, $L_1$ is used to find $L_2$, the set of frequent 2-itemsets, which is used to find $L_3$, and so on, until no frequent $k$-itemsets can be found.\n",
    "* The finding of each $L_k$ requires one full scan of the database.\n",
    "\n",
    "To improve the efficiency of the level-wise generation of (candidate) frequent itemsets, an important property is used to reduce the search space:\n",
    "> **Apriori property**: all nonempty subsets of a frequent itemset must also be frequent\n",
    "\n",
    "***Further intuition***: By defintion, if an timeset $I$ does not satisfy the minimum support threshold, *min_sup*, then $I$ is not frequent, that is $P(I)$ < *min_sup*. If an item $A$ is added to the itemset $I$, then the resulting itemset (i.e., $I \\cup A$) cannot occur more frequently than $I$. Therefore $I \\cup A$ is not frequent either, meaning $P(A \\cup I)$ < *min_sup*.\n",
    "\n",
    "This property follows a special category of properties called **antimonotonicity** in the sense that *if a set cannot pass a test, all of its supersets will faile the same test*.\n",
    "\n",
    "---\n",
    "\n",
    "## Example:\n",
    "\n",
    "Let's look at a concrete example, based on the transaction database, $D$, of the table provided below. There are 9 transactions in this database, that is, $|D| = 9$.\n",
    "\n",
    "| Transaction ID    | Set of Item IDs           |\n",
    "|:------------------|:--------------------------|\n",
    "| $T_1$             | $\\{I_1, I_2, I_5\\}$       |\n",
    "| $T_2$             | $\\{I_2, I_4\\}$            |\n",
    "| $T_3$             | $\\{I_2, I_3\\}$            |\n",
    "| $T_4$             | $\\{I_1, I_2, I_4\\}$       |\n",
    "| $T_5$             | $\\{I_1, I_3\\}$            |\n",
    "| $T_6$             | $\\{I_2, I_3\\}$            |\n",
    "| $T_7$             | $\\{I_1, I_3\\}$            |\n",
    "| $T_8$             | $\\{I_1, I_2, I_3, I_5\\}$  |\n",
    "| $T_9$             | $\\{I_1, I_2, I_3\\}$       |"
   ]
  },
  {
   "cell_type": "code",
   "execution_count": 1,
   "metadata": {},
   "outputs": [
    {
     "name": "stdout",
     "output_type": "stream",
     "text": [
      "D: {\n",
      "  \"T1\": \"{'I1', 'I5', 'I2'}\",\n",
      "  \"T2\": \"{'I2', 'I4'}\",\n",
      "  \"T3\": \"{'I2', 'I3'}\",\n",
      "  \"T4\": \"{'I1', 'I4', 'I2'}\",\n",
      "  \"T5\": \"{'I1', 'I3'}\",\n",
      "  \"T6\": \"{'I2', 'I3'}\",\n",
      "  \"T7\": \"{'I1', 'I3'}\",\n",
      "  \"T8\": \"{'I1', 'I3', 'I5', 'I2'}\",\n",
      "  \"T9\": \"{'I1', 'I3', 'I2'}\"\n",
      "}\n"
     ]
    }
   ],
   "source": [
    "\"\"\"Define transaction database.\"\"\"\n",
    "\n",
    "from json   import dumps\n",
    "\n",
    "# Define transaction database\n",
    "D:  dict[str, set]  = {\n",
    "    \"T1\":   {\"I1\", \"I2\", \"I5\"},\n",
    "    \"T2\":   {\"I2\", \"I4\"},\n",
    "    \"T3\":   {\"I2\", \"I3\"},\n",
    "    \"T4\":   {\"I1\", \"I2\", \"I4\"},\n",
    "    \"T5\":   {\"I1\", \"I3\"},\n",
    "    \"T6\":   {\"I2\", \"I3\"},\n",
    "    \"T7\":   {\"I1\", \"I3\"},\n",
    "    \"T8\":   {\"I1\", \"I2\", \"I3\", \"I5\"},\n",
    "    \"T9\":   {\"I1\", \"I2\", \"I3\"}\n",
    "}\n",
    "\n",
    "# Print transaction database\n",
    "print(f\"D: {dumps(D, indent = 2, default = str)}\")"
   ]
  },
  {
   "cell_type": "markdown",
   "metadata": {},
   "source": [
    "### Step 1:\n",
    "\n",
    "In the first iteration of the algorithm, each item is a member of the set of candidate 1-itemsets, $C_1$. The algorithm simply scans all of the transactions to count the number of occurences of each item."
   ]
  },
  {
   "cell_type": "code",
   "execution_count": 2,
   "metadata": {},
   "outputs": [
    {
     "name": "stdout",
     "output_type": "stream",
     "text": [
      "C-1: {\n",
      "  \"I1\": 6,\n",
      "  \"I2\": 7,\n",
      "  \"I3\": 6,\n",
      "  \"I4\": 2,\n",
      "  \"I5\": 2\n",
      "}\n"
     ]
    }
   ],
   "source": [
    "\"\"\"Generate 1-itemset candidates.\"\"\"\n",
    "\n",
    "from collections    import Counter\n",
    "from itertools      import chain\n",
    "from json           import dumps\n",
    "\n",
    "# Generate candidate 1-itemsets, C-1\n",
    "C_1:    dict[str, int]  = Counter(sorted(list(chain(*D.values()))))\n",
    "\n",
    "# Print C-1\n",
    "print(f\"C-1: {dumps(C_1, indent = 2, default = str)}\")"
   ]
  },
  {
   "cell_type": "markdown",
   "metadata": {},
   "source": [
    "### Step 2:\n",
    "\n",
    "Suppose that the minimum support count required is 2, that is, *min_sup* = 2. (Here, we are referring to *absolute* support because we are using a support count. The corresponding relative support is $2 / 9 = 22\\%$.) The set of frequent 1-itemsets, $L_1$, can then be determined. It consists of the candidate 1-itemsets satisfying minmum support. In our example, all of the candidates in $C_1$ satisfay minmum support.\n",
    "\n",
    "More concretely:\n",
    "\n",
    "| 1-itemset | Support                                                            |\n",
    "|:----------|:-------------------------------------------------------------------|\n",
    "| $I_1$     | $support(I_1) = \\frac{frequency(I_1)}{\\#~of~transactions} = \\frac{6}{9} = 66\\%$  |\n",
    "| $I_2$     | $support(I_2) = \\frac{frequency(I_2)}{\\#~of~transactions} = \\frac{7}{9} = 77\\%$  |\n",
    "| $I_3$     | $support(I_3) = \\frac{frequency(I_3)}{\\#~of~transactions} = \\frac{6}{9} = 66\\%$  |\n",
    "| $I_4$     | $support(I_4) = \\frac{frequency(I_4)}{\\#~of~transactions} = \\frac{2}{9} = 22\\%$  |\n",
    "| $I_5$     | $support(I_5) = \\frac{frequency(I_5)}{\\#~of~transactions} = \\frac{2}{9} = 22\\%$  |"
   ]
  },
  {
   "cell_type": "code",
   "execution_count": 3,
   "metadata": {},
   "outputs": [
    {
     "name": "stdout",
     "output_type": "stream",
     "text": [
      "L-1: {\n",
      "  \"I1\": 6,\n",
      "  \"I2\": 7,\n",
      "  \"I3\": 6,\n",
      "  \"I4\": 2,\n",
      "  \"I5\": 2\n",
      "}\n"
     ]
    }
   ],
   "source": [
    "\"\"\"Determine frequent 1-itemsets.\"\"\"\n",
    "\n",
    "from json   import dumps\n",
    "\n",
    "# Define minimum support count\n",
    "min_sup:    int             = 2\n",
    "\n",
    "# Eliminate items that do not satisfy minimum support count\n",
    "L_1:        dict[str, int]  = {item: count for item, count in C_1.items() if count >= min_sup}\n",
    "\n",
    "# Print L-1\n",
    "print(f\"L-1: {dumps(L_1, indent = 2, default = str)}\")"
   ]
  },
  {
   "cell_type": "markdown",
   "metadata": {},
   "source": [
    "### Step 3:\n",
    "\n",
    "To discover the set of frequent 2-itemsets, $L_2$, the algorithm uses the join $L_1 \\Join L_1$ to generate a candidate set of 2-itemsets, $C_2$. Note that no candidates are removed from $C_2$ during the prune step, because each subset of the $L_1$ candidates is also frequent.\n",
    "\n",
    "2-itemsets that will be generated:\n",
    "* $\\{I_1, I_2\\}$\n",
    "* $\\{I_1, I_3\\}$\n",
    "* $\\{I_1, I_4\\}$\n",
    "* $\\{I_1, I_5\\}$\n",
    "* $\\{I_2, I_3\\}$\n",
    "* $\\{I_2, I_4\\}$\n",
    "* $\\{I_2, I_5\\}$\n",
    "* $\\{I_3, I_4\\}$\n",
    "* $\\{I_3, I_5\\}$\n",
    "* $\\{I_4, I_5\\}$"
   ]
  },
  {
   "cell_type": "code",
   "execution_count": 9,
   "metadata": {},
   "outputs": [
    {
     "name": "stdout",
     "output_type": "stream",
     "text": [
      "C_2 itemset:\n",
      "{'I1', 'I2'}\n",
      "{'I1', 'I3'}\n",
      "{'I1', 'I4'}\n",
      "{'I1', 'I5'}\n",
      "{'I2', 'I3'}\n",
      "{'I2', 'I4'}\n",
      "{'I2', 'I3'}\n",
      "{'I3', 'I5'}\n",
      "{'I2', 'I4'}\n",
      "{'I2', 'I5'}\n"
     ]
    }
   ],
   "source": [
    "\"\"\"Generate 2-itemsets Candidates.\"\"\"\n",
    "\n",
    "from itertools      import chain, combinations\n",
    "\n",
    "# Generate C_2 itemset\n",
    "C_2_itemset:    set = sorted(set(chain.from_iterable(combinations(L_1.keys(), 2) for transaction in L_1.keys())))\n",
    "\n",
    "print(f\"C_2 itemset:\")\n",
    "for itemset in C_2_itemset: print(set(itemset))"
   ]
  },
  {
   "cell_type": "markdown",
   "metadata": {},
   "source": [
    "### Step 4:\n",
    "\n",
    "Next, the transactions in $D$ are scanned and the support count of each candidate itemset in $C_2$ is accumulated.\n",
    "\n",
    "More concretely:\n",
    "\n",
    "| 2-itemset         | Support                                                                                           |\n",
    "|:------------------|:--------------------------------------------------------------------------------------------------|\n",
    "| $\\{I_1, I_2\\}$    | $support(\\{I_1, I_2\\}) = \\frac{frequency(\\{I_1, I_2\\})}{\\#~of~transactions} = \\frac{4}{9} = 44\\%$ |\n",
    "| $\\{I_1, I_3\\}$    | $support(\\{I_1, I_3\\}) = \\frac{frequency(\\{I_1, I_3\\})}{\\#~of~transactions} = \\frac{4}{9} = 44\\%$ |\n",
    "| $\\{I_1, I_4\\}$    | $support(\\{I_1, I_4\\}) = \\frac{frequency(\\{I_1, I_4\\})}{\\#~of~transactions} = \\frac{1}{9} = 11\\%$ |\n",
    "| $\\{I_1, I_5\\}$    | $support(\\{I_1, I_5\\}) = \\frac{frequency(\\{I_1, I_5\\})}{\\#~of~transactions} = \\frac{2}{9} = 22\\%$ |\n",
    "| $\\{I_2, I_3\\}$    | $support(\\{I_2, I_3\\}) = \\frac{frequency(\\{I_2, I_3\\})}{\\#~of~transactions} = \\frac{2}{9} = 22\\%$ |\n",
    "| $\\{I_2, I_4\\}$    | $support(\\{I_2, I_4\\}) = \\frac{frequency(\\{I_2, I_4\\})}{\\#~of~transactions} = \\frac{1}{9} = 11\\%$ |\n",
    "| $\\{I_2, I_5\\}$    | $support(\\{I_2, I_5\\}) = \\frac{frequency(\\{I_2, I_5\\})}{\\#~of~transactions} = \\frac{2}{9} = 22\\%$ |\n",
    "| $\\{I_3, I_4\\}$    | $support(\\{I_3, I_4\\}) = \\frac{frequency(\\{I_3, I_4\\})}{\\#~of~transactions} = \\frac{0}{9} = 0\\%$  |\n",
    "| $\\{I_3, I_5\\}$    | $support(\\{I_3, I_5\\}) = \\frac{frequency(\\{I_3, I_5\\})}{\\#~of~transactions} = \\frac{1}{9} = 11\\%$ |\n",
    "| $\\{I_4, I_5\\}$    | $support(\\{I_4, I_5\\}) = \\frac{frequency(\\{I_4, I_5\\})}{\\#~of~transactions} = \\frac{0}{9} = 0\\%$  |"
   ]
  },
  {
   "cell_type": "code",
   "execution_count": 8,
   "metadata": {},
   "outputs": [
    {
     "name": "stdout",
     "output_type": "stream",
     "text": [
      "C-2: [\n",
      "  {\n",
      "    \"('I3', 'I2')\": 1\n",
      "  },\n",
      "  {\n",
      "    \"('I1', 'I3')\": 1\n",
      "  },\n",
      "  {\n",
      "    \"('I1', 'I5')\": 1\n",
      "  },\n",
      "  {\n",
      "    \"('I3', 'I5')\": 1\n",
      "  },\n",
      "  {\n",
      "    \"('I5', 'I2')\": 1\n",
      "  },\n",
      "  {\n",
      "    \"('I2', 'I4')\": 1\n",
      "  },\n",
      "  {\n",
      "    \"('I2', 'I3')\": 1\n",
      "  },\n",
      "  {\n",
      "    \"('I1', 'I4')\": 1\n",
      "  },\n",
      "  {\n",
      "    \"('I1', 'I2')\": 1\n",
      "  },\n",
      "  {\n",
      "    \"('I4', 'I2')\": 1\n",
      "  }\n",
      "]\n"
     ]
    }
   ],
   "source": [
    "\"\"\"Calculate support count of C_2 candidates.\"\"\"\n",
    "\n",
    "from collections    import Counter\n",
    "from json           import dumps\n",
    "\n",
    "# Count non-zero occurences of 2-itemsets in database\n",
    "C_2:    dict[str, int]  = Counter(C_2_itemset)\n",
    "\n",
    "# Print C-2\n",
    "print(f\"C-2: {dumps([{str(k): v} for k, v in C_2.items()], indent = 2, default = str)}\")"
   ]
  },
  {
   "cell_type": "markdown",
   "metadata": {},
   "source": [
    "### Step 5:\n",
    "\n",
    "The set of frequent 2-itemsets, $L_2$, is then determined, consisting of those candidate 2-itemsets in $C_2$ having minimum support (22\\%):\n",
    "\n",
    "\n",
    "\n",
    "| 2-itemset         | Support                                                                                           |\n",
    "|:------------------|:--------------------------------------------------------------------------------------------------|\n",
    "| $\\{I_1, I_2\\}$    | $support(\\{I_1, I_2\\}) = \\frac{frequency(\\{I_1, I_2\\})}{\\#~of~transactions} = \\frac{4}{9} = 44\\%$ |\n",
    "| $\\{I_1, I_3\\}$    | $support(\\{I_1, I_3\\}) = \\frac{frequency(\\{I_1, I_3\\})}{\\#~of~transactions} = \\frac{4}{9} = 44\\%$ |\n",
    "| $\\{I_1, I_5\\}$    | $support(\\{I_1, I_5\\}) = \\frac{frequency(\\{I_1, I_5\\})}{\\#~of~transactions} = \\frac{2}{9} = 22\\%$ |\n",
    "| $\\{I_2, I_3\\}$    | $support(\\{I_2, I_3\\}) = \\frac{frequency(\\{I_2, I_3\\})}{\\#~of~transactions} = \\frac{2}{9} = 22\\%$ |\n",
    "| $\\{I_2, I_5\\}$    | $support(\\{I_2, I_5\\}) = \\frac{frequency(\\{I_2, I_5\\})}{\\#~of~transactions} = \\frac{2}{9} = 22\\%$ |"
   ]
  },
  {
   "cell_type": "code",
   "execution_count": 6,
   "metadata": {},
   "outputs": [
    {
     "name": "stdout",
     "output_type": "stream",
     "text": [
      "L_2: [\n",
      "  {\n",
      "    \"('I1', 'I2')\": 4\n",
      "  },\n",
      "  {\n",
      "    \"('I1', 'I3')\": 4\n",
      "  },\n",
      "  {\n",
      "    \"('I1', 'I5')\": 2\n",
      "  },\n",
      "  {\n",
      "    \"('I2', 'I3')\": 2\n",
      "  },\n",
      "  {\n",
      "    \"('I3', 'I2')\": 2\n",
      "  },\n",
      "  {\n",
      "    \"('I5', 'I2')\": 2\n",
      "  }\n",
      "]\n"
     ]
    }
   ],
   "source": [
    "\"\"\"Eliminate C_2 candidates that do not satisfy minimum support.\"\"\"\n",
    "\n",
    "from json   import dumps\n",
    "\n",
    "# Elminate candidates with support < min_sup\n",
    "L_2:    dict[str, int]  = {k: v for k, v in C_2.items() if not v < min_sup}\n",
    "\n",
    "# Print L_2\n",
    "print(f\"L_2: {dumps([{str(k): v} for k, v in L_2.items()], indent = 2, default = str)}\")"
   ]
  },
  {
   "cell_type": "markdown",
   "metadata": {},
   "source": [
    "### Step 6:\n",
    "\n",
    "From the join step, we first get $C_3 = L_2 \\Join L_2$"
   ]
  }
 ],
 "metadata": {
  "kernelspec": {
   "display_name": "base",
   "language": "python",
   "name": "python3"
  },
  "language_info": {
   "codemirror_mode": {
    "name": "ipython",
    "version": 3
   },
   "file_extension": ".py",
   "mimetype": "text/x-python",
   "name": "python",
   "nbconvert_exporter": "python",
   "pygments_lexer": "ipython3",
   "version": "3.12.2"
  }
 },
 "nbformat": 4,
 "nbformat_minor": 2
}
