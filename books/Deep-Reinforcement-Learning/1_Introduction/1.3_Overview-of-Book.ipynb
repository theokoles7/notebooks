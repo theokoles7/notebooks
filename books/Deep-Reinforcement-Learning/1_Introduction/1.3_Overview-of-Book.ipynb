{
 "cells": [
  {
   "cell_type": "markdown",
   "metadata": {},
   "source": [
    "# §1.3: Overview of the Book\n",
    "[< 1. Introduction](./toc.md)"
   ]
  },
  {
   "cell_type": "markdown",
   "metadata": {},
   "source": [
    "## §1.3.1: Prerequisite Knowledge"
   ]
  },
  {
   "cell_type": "markdown",
   "metadata": {},
   "source": [
    "## §1.3.2: Structure of the Book"
   ]
  }
 ],
 "metadata": {
  "language_info": {
   "name": "python"
  }
 },
 "nbformat": 4,
 "nbformat_minor": 2
}
