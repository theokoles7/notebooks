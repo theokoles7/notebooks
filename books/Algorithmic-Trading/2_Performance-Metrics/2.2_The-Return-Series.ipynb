{
 "cells": [
  {
   "cell_type": "markdown",
   "metadata": {},
   "source": [
    "# §2.2: The Return Series\n",
    "[< 2. Performance Metrics](./toc.md)\n",
    "\n",
    "The ***return series*** is a series of price changes on an asset, portfolio, or equity curve. The series may refer to any one of the following *types of returns*:\n",
    "* [Percentage Returns](#§221-percentage-returns)\n",
    "* [Logarithmic Returns](#§222-log-returns)\n",
    "* Dollar Returns"
   ]
  },
  {
   "cell_type": "markdown",
   "metadata": {},
   "source": [
    "## §2.2.1: Percentage Returns\n",
    "\n",
    "In the simplest of scenarios, the return on an stock series $y_t$ can be represented as:\n",
    "\n",
    "$$r_t = \\frac{y_t - y_{t - 1}}{y_{t - 1}} = \\frac{y_t}{y_{t - 1}} - 1$$\n",
    "\n",
    "Which when multiplied by 100, yields the percentage return.\n",
    "\n",
    "Percentage returns hold the following relationship with the price series $y_t$:\n",
    "\n",
    "$$y_t = y_0 \\cdot \\Pi_{j = 1}^t (1 + r_j)$$\n",
    "\n",
    "Which simply implies that the price $y_t$ is the product of all intermediate return from time $0, \\dots, t$.\n",
    "\n",
    "### Example:"
   ]
  },
  {
   "cell_type": "code",
   "execution_count": 13,
   "metadata": {},
   "outputs": [
    {
     "name": "stdout",
     "output_type": "stream",
     "text": [
      "['100.0%', '-25.0%', '86.67%', '-21.43%']\n"
     ]
    }
   ],
   "source": [
    "\"\"\"Calculate Percentage Return Series.\"\"\"\n",
    "\n",
    "from typing import List\n",
    "\n",
    "def calculate_percentage_return(\n",
    "    prices: List[float]\n",
    ") -> List[float]:\n",
    "    \"\"\"# Calculate the percentage return of the given series of prices.\n",
    "    \n",
    "    NOTE: r_0 will always be undefined.\n",
    "\n",
    "    ## Args:\n",
    "        * prices    (List[float]):  Price series.\n",
    "\n",
    "    ## Returns:\n",
    "        * List[float]:  Percentage return series of prices.\n",
    "    \"\"\"\n",
    "    return [(prices[p] / prices[p - 1]) - 1 for p in range(1, len(prices))]\n",
    "\n",
    "# Define a series of prices\n",
    "prices: List[float] =   [0.50, 1.00, 0.75, 1.40, 1.10]\n",
    "\n",
    "# Demonstrate percentage return series calculation\n",
    "print([f\"{round(r * 100, 2)}%\" for r in calculate_percentage_return(prices = prices)])"
   ]
  },
  {
   "cell_type": "markdown",
   "metadata": {},
   "source": [
    "## §2.2.2: Log Returns\n",
    "\n",
    "Log returns, which are commonly substituted for percentage returns because of their unique mathematical properties, can be represented as:\n",
    "\n",
    "$$r_t = \\ln(\\frac{y_t}{y_{t - 1}}) = \\ln y_t - \\ln y_{t - 1}$$\n",
    "\n",
    "Which holds the following relationship with the price series:\n",
    "\n",
    "$$y_t = y_0 \\cdot \\exp(\\Sigma_{j = 1}^t r_j) = y_0 \\cdot \\Pi_{j = 1}^t e^{r_j}$$\n",
    "\n",
    "### Example:"
   ]
  },
  {
   "cell_type": "code",
   "execution_count": 14,
   "metadata": {},
   "outputs": [
    {
     "name": "stdout",
     "output_type": "stream",
     "text": [
      "['1.0', '-0.42', '0.9', '-0.35']\n"
     ]
    }
   ],
   "source": [
    "\"\"\"Calculate Log Return Series.\"\"\"\n",
    "\n",
    "from math   import log2\n",
    "from typing import List\n",
    "\n",
    "def calculate_log_return(\n",
    "    prices: List[float]\n",
    ") -> List[float]:\n",
    "    \"\"\"# Calculate the log return of the given series of prices.\n",
    "\n",
    "    ## Args:\n",
    "        * prices    (List[float]):  Price series\n",
    "\n",
    "    ## Returns:\n",
    "        * List[float]:  Log return series of prices.\n",
    "    \"\"\"\n",
    "    return [(log2(prices[p]) - log2(prices[p - 1])) for p in range(1, len(prices))]\n",
    "\n",
    "# Define a series of prices\n",
    "prices: List[float] =   [0.50, 1.00, 0.75, 1.40, 1.10]\n",
    "\n",
    "# Demonstrate logarithmic return series calculation\n",
    "print([f\"{round(r, 2)}\" for r in calculate_log_return(prices = prices)])"
   ]
  },
  {
   "cell_type": "markdown",
   "metadata": {},
   "source": [
    "## §2.2.3: Properties of Return Series\n",
    "\n",
    "The percentage and log return series have different properties and are used for different purposes. It is instructive to discuss those properties that might not be immediately obvious."
   ]
  },
  {
   "cell_type": "markdown",
   "metadata": {},
   "source": [
    "### §2.2.3.1: Symmetry and Interpretability\n",
    "\n",
    "**Percentage price returns are *not symmetrical* while logarithmic returns are.**\n",
    "\n",
    "Percentage example:\n",
    "* A stock opens at $100 and drops to $50\n",
    "* The day's loss is 50%\n",
    "* The stock rises to $75 the next trading day\n",
    "* The day's gain is 50%\n",
    "* The percentages may be symmetric, but the price differences are not\n",
    "\n",
    "This is because the true reciprocal of losing 50% in value is the same [price difference] as gaining 100% in value. i.e., if a stock loses half of its value one day, it must then double its value to return to its earlier price.\n",
    "\n",
    "Logarithmic returns are symmetrical, because $\\ln(50) - \\ln(100) = -0.693$ and $\\ln(100) - \\ln(50) = 0.693$.\n",
    "\n",
    "### Example:"
   ]
  },
  {
   "cell_type": "code",
   "execution_count": 15,
   "metadata": {},
   "outputs": [
    {
     "name": "stdout",
     "output_type": "stream",
     "text": [
      "Percentage return:  [-0.5, 1.0]\n",
      "Logarithmic return: [-1.0, 1.0]\n"
     ]
    }
   ],
   "source": [
    "from typing import List\n",
    "\n",
    "# Define a series of prices\n",
    "prices: List[float] =   [100, 50, 100]\n",
    "\n",
    "# Calculate percentage return series\n",
    "print(f\"Percentage return:  {calculate_percentage_return(prices = prices)}\")\n",
    "\n",
    "# Calculate logarithmic return series\n",
    "print(f\"Logarithmic return: {calculate_log_return(prices = prices)}\")"
   ]
  },
  {
   "cell_type": "markdown",
   "metadata": {},
   "source": [
    "### §2.2.3.2: Local Linearity\n",
    "\n",
    "Calculus asserts the following properties:\n",
    "* $\\frac{d}{dx} e^x = e^x$\n",
    "* $\\frac{d}{dx} \\ln(x) = \\frac{1}{x}$\n",
    "\n",
    "This reveals another desirable property of logarithmic returns: The derivative of $\\ln(x)$ near $x = 1$ is approximately 1. i.e., when $\\ln(\\frac{y_t}{y_{t - 1}})$ is close to 1, which it nearly always is, a small increase or decrease in $y_t$ will result in a nearly equal incease or decrease in $r_t$."
   ]
  },
  {
   "cell_type": "markdown",
   "metadata": {},
   "source": [
    "### §2.2.3.3: Tail Symmetry and Normality"
   ]
  }
 ],
 "metadata": {
  "kernelspec": {
   "display_name": "base",
   "language": "python",
   "name": "python3"
  },
  "language_info": {
   "codemirror_mode": {
    "name": "ipython",
    "version": 3
   },
   "file_extension": ".py",
   "mimetype": "text/x-python",
   "name": "python",
   "nbconvert_exporter": "python",
   "pygments_lexer": "ipython3",
   "version": "3.11.4"
  }
 },
 "nbformat": 4,
 "nbformat_minor": 2
}
